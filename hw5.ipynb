{
 "cells": [
  {
   "cell_type": "markdown",
   "metadata": {},
   "source": [
    "## Homework 5\n",
    "### Author: Tsapiv Maksym\n",
    "### Variant: 0"
   ]
  },
  {
   "cell_type": "markdown",
   "metadata": {},
   "source": [
    "### Task 1"
   ]
  },
  {
   "cell_type": "code",
   "execution_count": 9,
   "metadata": {},
   "outputs": [],
   "source": [
    "import matplotlib.pyplot as plt\n",
    "import pandas as pd\n",
    "import numpy as np"
   ]
  },
  {
   "cell_type": "markdown",
   "metadata": {},
   "source": [
    "I implemented strategies and ran a few experiments with different number of agents in each experiment (from 1 to 100) but within 1 experiment number of agent of each strategy stays the same."
   ]
  },
  {
   "cell_type": "markdown",
   "metadata": {},
   "source": [
    "### Here is some work with data to plot it"
   ]
  },
  {
   "cell_type": "code",
   "execution_count": 57,
   "metadata": {},
   "outputs": [
    {
     "data": {
      "text/html": [
       "<div>\n",
       "<style scoped>\n",
       "    .dataframe tbody tr th:only-of-type {\n",
       "        vertical-align: middle;\n",
       "    }\n",
       "\n",
       "    .dataframe tbody tr th {\n",
       "        vertical-align: top;\n",
       "    }\n",
       "\n",
       "    .dataframe thead th {\n",
       "        text-align: right;\n",
       "    }\n",
       "</style>\n",
       "<table border=\"1\" class=\"dataframe\">\n",
       "  <thead>\n",
       "    <tr style=\"text-align: right;\">\n",
       "      <th></th>\n",
       "      <th>random_av</th>\n",
       "      <th>cooperate_av</th>\n",
       "      <th>defect_av</th>\n",
       "      <th>tit-for-tat_av</th>\n",
       "      <th>grofman_av</th>\n",
       "      <th>shubik_av</th>\n",
       "    </tr>\n",
       "  </thead>\n",
       "  <tbody>\n",
       "    <tr>\n",
       "      <th>0</th>\n",
       "      <td>1.729412</td>\n",
       "      <td>1.000000</td>\n",
       "      <td>2.238579</td>\n",
       "      <td>1.708995</td>\n",
       "      <td>2.292308</td>\n",
       "      <td>2.336957</td>\n",
       "    </tr>\n",
       "    <tr>\n",
       "      <th>0</th>\n",
       "      <td>1.796736</td>\n",
       "      <td>1.334875</td>\n",
       "      <td>2.206422</td>\n",
       "      <td>1.960012</td>\n",
       "      <td>2.022908</td>\n",
       "      <td>2.219114</td>\n",
       "    </tr>\n",
       "    <tr>\n",
       "      <th>0</th>\n",
       "      <td>1.801621</td>\n",
       "      <td>1.351714</td>\n",
       "      <td>2.172797</td>\n",
       "      <td>1.945195</td>\n",
       "      <td>2.029460</td>\n",
       "      <td>2.174109</td>\n",
       "    </tr>\n",
       "    <tr>\n",
       "      <th>0</th>\n",
       "      <td>1.812175</td>\n",
       "      <td>1.352764</td>\n",
       "      <td>2.187358</td>\n",
       "      <td>1.940254</td>\n",
       "      <td>2.029768</td>\n",
       "      <td>2.187723</td>\n",
       "    </tr>\n",
       "    <tr>\n",
       "      <th>0</th>\n",
       "      <td>1.821747</td>\n",
       "      <td>1.354118</td>\n",
       "      <td>2.212982</td>\n",
       "      <td>1.920204</td>\n",
       "      <td>2.051662</td>\n",
       "      <td>2.209150</td>\n",
       "    </tr>\n",
       "  </tbody>\n",
       "</table>\n",
       "</div>"
      ],
      "text/plain": [
       "   random_av  cooperate_av  defect_av  tit-for-tat_av  grofman_av  shubik_av\n",
       "0   1.729412      1.000000   2.238579        1.708995    2.292308   2.336957\n",
       "0   1.796736      1.334875   2.206422        1.960012    2.022908   2.219114\n",
       "0   1.801621      1.351714   2.172797        1.945195    2.029460   2.174109\n",
       "0   1.812175      1.352764   2.187358        1.940254    2.029768   2.187723\n",
       "0   1.821747      1.354118   2.212982        1.920204    2.051662   2.209150"
      ]
     },
     "execution_count": 57,
     "metadata": {},
     "output_type": "execute_result"
    }
   ],
   "source": [
    "ex1 = pd.read_csv('data/PD N-Person Iterated tournament experiment1-spreadsheet.csv')\n",
    "ex10 = pd.read_csv('data/PD N-Person Iterated tournament experiment10-spreadsheet.csv')\n",
    "ex20 = pd.read_csv('data/PD N-Person Iterated tournament experiment20-spreadsheet.csv')\n",
    "ex50 = pd.read_csv('data/PD N-Person Iterated tournament experiment50-spreadsheet.csv')\n",
    "ex100 = pd.read_csv('data/PD N-Person Iterated tournament experiment100-spreadsheet.csv')\n",
    "\n",
    "df = pd.concat([ex1, ex10, ex20, ex50, ex100])\n",
    "df\n"
   ]
  },
  {
   "cell_type": "code",
   "execution_count": 58,
   "metadata": {},
   "outputs": [
    {
     "data": {
      "text/plain": [
       "array([1.72941176, 1.        , 2.23857868, 1.70899471, 2.29230769,\n",
       "       2.33695652])"
      ]
     },
     "execution_count": 58,
     "metadata": {},
     "output_type": "execute_result"
    }
   ],
   "source": [
    "np.array(ex1.iloc[0])"
   ]
  },
  {
   "cell_type": "code",
   "execution_count": 64,
   "metadata": {},
   "outputs": [
    {
     "data": {
      "text/plain": [
       "array([[1.72941176, 1.        , 2.23857868, 1.70899471, 2.29230769,\n",
       "        2.33695652],\n",
       "       [1.79673621, 1.33487512, 2.20642178, 1.9600125 , 2.022908  ,\n",
       "        2.2191141 ],\n",
       "       [1.80162121, 1.35171438, 2.17279656, 1.94519496, 2.0294597 ,\n",
       "        2.17410869],\n",
       "       [1.81217518, 1.35276435, 2.18735843, 1.94025449, 2.029768  ,\n",
       "        2.18772261],\n",
       "       [1.82174737, 1.35411793, 2.21298211, 1.92020401, 2.05166174,\n",
       "        2.20915019]])"
      ]
     },
     "execution_count": 64,
     "metadata": {},
     "output_type": "execute_result"
    }
   ],
   "source": [
    "to_plot = np.array([np.array(df.iloc[0]), np.array(df.iloc[1]), np.array(df.iloc[2]),\n",
    " np.array(df.iloc[3]), np.array(df.iloc[4])])\n",
    "\n",
    "to_plot"
   ]
  },
  {
   "cell_type": "code",
   "execution_count": 63,
   "metadata": {},
   "outputs": [
    {
     "data": {
      "text/plain": [
       "([<matplotlib.axis.XTick at 0x7f9b16079250>,\n",
       "  <matplotlib.axis.XTick at 0x7f9b16079880>,\n",
       "  <matplotlib.axis.XTick at 0x7f9b1606bf70>,\n",
       "  <matplotlib.axis.XTick at 0x7f9b15fcba00>,\n",
       "  <matplotlib.axis.XTick at 0x7f9b15fcb6a0>,\n",
       "  <matplotlib.axis.XTick at 0x7f9b15fd6610>],\n",
       " [Text(1, 0, 'random'),\n",
       "  Text(2, 0, 'cooperate'),\n",
       "  Text(3, 0, 'defect'),\n",
       "  Text(4, 0, 'tit-for-tat'),\n",
       "  Text(5, 0, 'grofman'),\n",
       "  Text(6, 0, 'shubik')])"
      ]
     },
     "execution_count": 63,
     "metadata": {},
     "output_type": "execute_result"
    },
    {
     "data": {
      "image/png": "[encoded data removed]",
      "text/plain": [
       "<Figure size 640x480 with 1 Axes>"
      ]
     },
     "metadata": {},
     "output_type": "display_data"
    }
   ],
   "source": [
    "plt.violinplot(to_plot,\n",
    "                  showmeans=False,\n",
    "                  showmedians=True)\n",
    "plt.xticks([y + 1 for y in range(len(to_plot) + 1)],\n",
    "                  labels=['random', 'cooperate', 'defect', 'tit-for-tat', 'grofman', 'shubik'])"
   ]
  },
  {
   "cell_type": "markdown",
   "metadata": {},
   "source": [
    "From the plot we can see that definitely the worst strategy is `cooperate` which is not any wonder as it is loses to most of the strategies because cooperating is not realy beneficial and can make 3 points max, and it loses greatly to the strategies that are based on defecting, to the most of strategies, that is.\n",
    "\n",
    "Then, we can see that the most consistant and well-performing strategy is `defect` because defecting can not realy do bad, it can either gain many points or gain less, that's why it's so good and simple at the same time.\n",
    "\n",
    "About `grofman` and `shubik` -- two of more complex strategies: we can see that both of them performed pretty good, `grofman`, though, a little worse and has only one value that exceeds the `defect` strategy but mean is close to the `tit-for-tat` strategy. However, `shubik` sometimes performed even better than `defect` but on average is pretty much the same, because if it faces for example `defact` strategy it becomes a `defect` vs `defect` battle, so it can adapt to the oponent and because of that ability it can overperform `defect`.     "
   ]
  },
  {
   "cell_type": "markdown",
   "metadata": {},
   "source": [
    "### Task 2: Own strategy"
   ]
  },
  {
   "cell_type": "markdown",
   "metadata": {},
   "source": [
    "I built my strategy based on the `shubik` strategy but (I think) made it even more \"adapteble\".\n",
    "\n",
    "```\n",
    "to my-strat\n",
    "  set num-my-strat-games num-my-strat-games + 1\n",
    "  set partner-defected? item ([who] of partner) partner-history\n",
    "\n",
    "  ifelse (partner-defected?) [\n",
    "      set future-defects future-defects - 2\n",
    "  ] [ set future-defects future-defects + 2\n",
    "  ]\n",
    "\n",
    "  ifelse future-defects <= 0 [\n",
    "    set defect-now? false\n",
    "  ] [\n",
    "    set defect-now? true\n",
    "  ]\n",
    "\n",
    "  set future-defects future-defects + 1\n",
    "\n",
    "end\n",
    "```\n",
    "\n",
    "I tested it a bit against others, and it performs pretty good.\n",
    "\n",
    "![](imgs/1.png)"
   ]
  }
 ],
 "metadata": {
  "kernelspec": {
   "display_name": "Python 3.9.13 ('base')",
   "language": "python",
   "name": "python3"
  },
  "language_info": {
   "codemirror_mode": {
    "name": "ipython",
    "version": 3
   },
   "file_extension": ".py",
   "mimetype": "text/x-python",
   "name": "python",
   "nbconvert_exporter": "python",
   "pygments_lexer": "ipython3",
   "version": "3.9.13"
  },
  "orig_nbformat": 4,
  "vscode": {
   "interpreter": {
    "hash": "586ad1ed5c97141e2437e681efbf1ec0adcd17d830cf5af2ca3d2819e743e158"
   }
  }
 },
 "nbformat": 4,
 "nbformat_minor": 2
}
